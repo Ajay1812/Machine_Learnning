{
 "cells": [
  {
   "cell_type": "markdown",
   "metadata": {
    "id": "3DR-eO17geWu"
   },
   "source": [
    "# Convolutional Neural Network"
   ]
  },
  {
   "cell_type": "markdown",
   "metadata": {
    "id": "EMefrVPCg-60"
   },
   "source": [
    "### Importing the libraries"
   ]
  },
  {
   "cell_type": "code",
   "execution_count": 14,
   "metadata": {
    "id": "25GewFvkiDbZ"
   },
   "outputs": [],
   "source": [
    "import tensorflow as tf \n",
    "from keras.preprocessing.image import ImageDataGenerator"
   ]
  },
  {
   "cell_type": "code",
   "execution_count": 15,
   "metadata": {
    "colab": {
     "base_uri": "https://localhost:8080/",
     "height": 35
    },
    "id": "pTSC3GCTw9Gj",
    "outputId": "bb8c5469-7949-4647-f160-31cdfb2ae6d7"
   },
   "outputs": [
    {
     "data": {
      "text/plain": [
       "'2.9.1'"
      ]
     },
     "execution_count": 15,
     "metadata": {},
     "output_type": "execute_result"
    }
   ],
   "source": [
    "tf.__version__"
   ]
  },
  {
   "cell_type": "markdown",
   "metadata": {
    "id": "oxQxCBWyoGPE"
   },
   "source": [
    "## Part 1 - Data Preprocessing"
   ]
  },
  {
   "cell_type": "markdown",
   "metadata": {
    "id": "MvE-heJNo3GG"
   },
   "source": [
    "### Preprocessing the Training set"
   ]
  },
  {
   "cell_type": "code",
   "execution_count": 16,
   "metadata": {
    "colab": {
     "base_uri": "https://localhost:8080/",
     "height": 397
    },
    "id": "IybRt8-wxIVb",
    "outputId": "9b14b04c-ab54-4390-f38f-6d31f2eb0123"
   },
   "outputs": [
    {
     "name": "stdout",
     "output_type": "stream",
     "text": [
      "Found 8000 images belonging to 2 classes.\n"
     ]
    }
   ],
   "source": [
    "train_datagen = ImageDataGenerator(\n",
    "        rescale=1./255,\n",
    "        shear_range=0.2,\n",
    "        zoom_range=0.2,\n",
    "        horizontal_flip=True)\n",
    "training_set = train_datagen.flow_from_directory(\n",
    "        'dataset/training_set',\n",
    "        target_size=(64, 64),\n",
    "        batch_size=32,\n",
    "        class_mode='binary')"
   ]
  },
  {
   "cell_type": "markdown",
   "metadata": {
    "id": "mrCMmGw9pHys"
   },
   "source": [
    "### Preprocessing the Test set"
   ]
  },
  {
   "cell_type": "code",
   "execution_count": 17,
   "metadata": {
    "id": "rhgEgObv08m4"
   },
   "outputs": [
    {
     "name": "stdout",
     "output_type": "stream",
     "text": [
      "Found 2000 images belonging to 2 classes.\n"
     ]
    }
   ],
   "source": [
    "test_datagen = ImageDataGenerator(rescale=1./255)\n",
    "test_set = test_datagen.flow_from_directory(\n",
    "        'dataset/test_set',\n",
    "        target_size=(64, 64),\n",
    "        batch_size=32,\n",
    "        class_mode='binary')"
   ]
  },
  {
   "cell_type": "markdown",
   "metadata": {
    "id": "af8O4l90gk7B"
   },
   "source": [
    "## Part 2 - Building the CNN"
   ]
  },
  {
   "cell_type": "markdown",
   "metadata": {
    "id": "ces1gXY2lmoX"
   },
   "source": [
    "### Initialising the CNN"
   ]
  },
  {
   "cell_type": "code",
   "execution_count": 18,
   "metadata": {
    "id": "ge16Z8Hmmg9a"
   },
   "outputs": [],
   "source": [
    "cnn = tf.keras.models.Sequential()"
   ]
  },
  {
   "cell_type": "markdown",
   "metadata": {
    "id": "u5YJj_XMl5LF"
   },
   "source": [
    "### Step 1 - Convolution"
   ]
  },
  {
   "cell_type": "code",
   "execution_count": 19,
   "metadata": {
    "id": "mTwkArpsmo8G"
   },
   "outputs": [],
   "source": [
    "cnn.add(tf.keras.layers.Conv2D(filters= 32, kernel_size=3, activation= 'relu', input_shape = [64, 64, 3]))"
   ]
  },
  {
   "cell_type": "markdown",
   "metadata": {
    "id": "tf87FpvxmNOJ"
   },
   "source": [
    "### Step 2 - Pooling"
   ]
  },
  {
   "cell_type": "code",
   "execution_count": 20,
   "metadata": {
    "id": "wfOgw9AFn8oT"
   },
   "outputs": [],
   "source": [
    "cnn.add(tf.keras.layers.MaxPool2D(pool_size= 2, strides=2))"
   ]
  },
  {
   "cell_type": "markdown",
   "metadata": {
    "id": "xaTOgD8rm4mU"
   },
   "source": [
    "### Adding a second convolutional layer"
   ]
  },
  {
   "cell_type": "code",
   "execution_count": 21,
   "metadata": {
    "id": "kSCZT0Qeu0_D"
   },
   "outputs": [],
   "source": [
    "cnn.add(tf.keras.layers.Conv2D(filters = 32, kernel_size =3, activation = 'relu'))\n",
    "cnn.add(tf.keras.layers.MaxPool2D(pool_size= 2, strides=2))"
   ]
  },
  {
   "cell_type": "markdown",
   "metadata": {
    "id": "tmiEuvTunKfk"
   },
   "source": [
    "### Step 3 - Flattening"
   ]
  },
  {
   "cell_type": "code",
   "execution_count": 22,
   "metadata": {
    "id": "-AVKn4xgvJNk"
   },
   "outputs": [],
   "source": [
    "cnn.add(tf.keras.layers.Flatten())"
   ]
  },
  {
   "cell_type": "markdown",
   "metadata": {
    "id": "dAoSECOm203v"
   },
   "source": [
    "### Step 4 - Full Connection"
   ]
  },
  {
   "cell_type": "code",
   "execution_count": 23,
   "metadata": {
    "id": "PhkRLTK6vpdq"
   },
   "outputs": [],
   "source": [
    "cnn.add(tf.keras.layers.Dense(units = 128, activation= 'relu'))"
   ]
  },
  {
   "cell_type": "markdown",
   "metadata": {
    "id": "yTldFvbX28Na"
   },
   "source": [
    "### Step 5 - Output Layer"
   ]
  },
  {
   "cell_type": "code",
   "execution_count": 24,
   "metadata": {
    "id": "x2eAfmGpv_TS"
   },
   "outputs": [],
   "source": [
    "cnn.add(tf.keras.layers.Dense(units = 1, activation= 'sigmoid'))"
   ]
  },
  {
   "cell_type": "markdown",
   "metadata": {
    "id": "D6XkI90snSDl"
   },
   "source": [
    "## Part 3 - Training the CNN"
   ]
  },
  {
   "cell_type": "markdown",
   "metadata": {
    "id": "vfrFQACEnc6i"
   },
   "source": [
    "### Compiling the CNN"
   ]
  },
  {
   "cell_type": "code",
   "execution_count": 25,
   "metadata": {
    "id": "uwFmLmC54QWl"
   },
   "outputs": [],
   "source": [
    "cnn.compile(optimizer = 'adam', loss = 'binary_crossentropy', metrics = ['accuracy'])"
   ]
  },
  {
   "cell_type": "markdown",
   "metadata": {
    "id": "ehS-v3MIpX2h"
   },
   "source": [
    "### Training the CNN on the Training set and evaluating it on the Test set"
   ]
  },
  {
   "cell_type": "code",
   "execution_count": 26,
   "metadata": {
    "id": "M_3MstBE4uEU"
   },
   "outputs": [
    {
     "name": "stdout",
     "output_type": "stream",
     "text": [
      "Epoch 1/25\n",
      "250/250 [==============================] - 67s 267ms/step - loss: 0.6771 - accuracy: 0.5709 - val_loss: 0.6423 - val_accuracy: 0.6275\n",
      "Epoch 2/25\n",
      "250/250 [==============================] - 29s 114ms/step - loss: 0.6119 - accuracy: 0.6695 - val_loss: 0.5955 - val_accuracy: 0.6955\n",
      "Epoch 3/25\n",
      "250/250 [==============================] - 29s 116ms/step - loss: 0.5738 - accuracy: 0.7007 - val_loss: 0.5401 - val_accuracy: 0.7305\n",
      "Epoch 4/25\n",
      "250/250 [==============================] - 29s 116ms/step - loss: 0.5392 - accuracy: 0.7295 - val_loss: 0.6291 - val_accuracy: 0.6775\n",
      "Epoch 5/25\n",
      "250/250 [==============================] - 29s 114ms/step - loss: 0.5180 - accuracy: 0.7435 - val_loss: 0.4883 - val_accuracy: 0.7675\n",
      "Epoch 6/25\n",
      "250/250 [==============================] - 28s 112ms/step - loss: 0.4992 - accuracy: 0.7538 - val_loss: 0.4896 - val_accuracy: 0.7600\n",
      "Epoch 7/25\n",
      "250/250 [==============================] - 29s 114ms/step - loss: 0.4882 - accuracy: 0.7588 - val_loss: 0.4753 - val_accuracy: 0.7735\n",
      "Epoch 8/25\n",
      "250/250 [==============================] - 29s 116ms/step - loss: 0.4730 - accuracy: 0.7690 - val_loss: 0.5100 - val_accuracy: 0.7635\n",
      "Epoch 9/25\n",
      "250/250 [==============================] - 28s 113ms/step - loss: 0.4709 - accuracy: 0.7740 - val_loss: 0.5074 - val_accuracy: 0.7555\n",
      "Epoch 10/25\n",
      "250/250 [==============================] - 28s 113ms/step - loss: 0.4549 - accuracy: 0.7836 - val_loss: 0.4830 - val_accuracy: 0.7725\n",
      "Epoch 11/25\n",
      "250/250 [==============================] - 29s 115ms/step - loss: 0.4543 - accuracy: 0.7812 - val_loss: 0.4573 - val_accuracy: 0.7910\n",
      "Epoch 12/25\n",
      "250/250 [==============================] - 28s 113ms/step - loss: 0.4394 - accuracy: 0.7911 - val_loss: 0.4732 - val_accuracy: 0.7785\n",
      "Epoch 13/25\n",
      "250/250 [==============================] - 28s 113ms/step - loss: 0.4289 - accuracy: 0.8006 - val_loss: 0.4760 - val_accuracy: 0.7790\n",
      "Epoch 14/25\n",
      "250/250 [==============================] - 28s 113ms/step - loss: 0.4306 - accuracy: 0.7962 - val_loss: 0.4481 - val_accuracy: 0.7920\n",
      "Epoch 15/25\n",
      "250/250 [==============================] - 28s 114ms/step - loss: 0.4236 - accuracy: 0.7989 - val_loss: 0.5033 - val_accuracy: 0.7635\n",
      "Epoch 16/25\n",
      "250/250 [==============================] - 28s 113ms/step - loss: 0.4152 - accuracy: 0.8061 - val_loss: 0.4434 - val_accuracy: 0.7930\n",
      "Epoch 17/25\n",
      "250/250 [==============================] - 28s 113ms/step - loss: 0.3971 - accuracy: 0.8185 - val_loss: 0.4453 - val_accuracy: 0.8010\n",
      "Epoch 18/25\n",
      "250/250 [==============================] - 28s 113ms/step - loss: 0.4046 - accuracy: 0.8135 - val_loss: 0.4565 - val_accuracy: 0.7860\n",
      "Epoch 19/25\n",
      "250/250 [==============================] - 28s 113ms/step - loss: 0.3830 - accuracy: 0.8223 - val_loss: 0.4629 - val_accuracy: 0.7830\n",
      "Epoch 20/25\n",
      "250/250 [==============================] - 29s 114ms/step - loss: 0.3820 - accuracy: 0.8250 - val_loss: 0.5224 - val_accuracy: 0.7690\n",
      "Epoch 21/25\n",
      "250/250 [==============================] - 28s 111ms/step - loss: 0.3882 - accuracy: 0.8200 - val_loss: 0.4484 - val_accuracy: 0.7950\n",
      "Epoch 22/25\n",
      "250/250 [==============================] - 28s 113ms/step - loss: 0.3659 - accuracy: 0.8353 - val_loss: 0.4499 - val_accuracy: 0.8005\n",
      "Epoch 23/25\n",
      "250/250 [==============================] - 28s 113ms/step - loss: 0.3693 - accuracy: 0.8336 - val_loss: 0.4419 - val_accuracy: 0.8015\n",
      "Epoch 24/25\n",
      "250/250 [==============================] - 28s 113ms/step - loss: 0.3543 - accuracy: 0.8380 - val_loss: 0.4631 - val_accuracy: 0.7850\n",
      "Epoch 25/25\n",
      "250/250 [==============================] - 28s 113ms/step - loss: 0.3524 - accuracy: 0.8440 - val_loss: 0.4912 - val_accuracy: 0.7920\n"
     ]
    },
    {
     "data": {
      "text/plain": [
       "<keras.callbacks.History at 0x255c530cb80>"
      ]
     },
     "execution_count": 26,
     "metadata": {},
     "output_type": "execute_result"
    }
   ],
   "source": [
    "cnn.fit(x = training_set, validation_data = test_set, epochs = 25)"
   ]
  },
  {
   "cell_type": "markdown",
   "metadata": {
    "id": "U3PZasO0006Z"
   },
   "source": [
    "## Part 4 - Making a single prediction"
   ]
  },
  {
   "cell_type": "code",
   "execution_count": 51,
   "metadata": {
    "id": "yk4Boppw8ISL"
   },
   "outputs": [
    {
     "name": "stdout",
     "output_type": "stream",
     "text": [
      "1/1 [==============================] - 0s 14ms/step\n"
     ]
    }
   ],
   "source": [
    "import numpy as np\n",
    "from keras.preprocessing import image\n",
    "test_image = tf.keras.preprocessing.image.load_img('dataset/single_prediction/cat_or_dog_6.jpg', target_size = (64, 64))\n",
    "test_image = tf.keras.preprocessing.image.img_to_array(test_image)\n",
    "test_image = np.array([test_image])\n",
    "result = cnn.predict(test_image)\n",
    "training_set.class_indices\n",
    "if result[0][0] == 1:\n",
    "  prediction = 'dog'\n",
    "else:\n",
    "  prediction = 'cat'  "
   ]
  },
  {
   "cell_type": "code",
   "execution_count": 52,
   "metadata": {
    "id": "Tiv9V0RY-4e_"
   },
   "outputs": [
    {
     "name": "stdout",
     "output_type": "stream",
     "text": [
      "dog\n"
     ]
    }
   ],
   "source": [
    "print(prediction) "
   ]
  },
  {
   "cell_type": "code",
   "execution_count": null,
   "metadata": {},
   "outputs": [],
   "source": []
  }
 ],
 "metadata": {
  "colab": {
   "collapsed_sections": [],
   "name": "Copy of convolutional_neural_network.ipynb",
   "provenance": [],
   "toc_visible": true
  },
  "kernelspec": {
   "display_name": "Python 3 (ipykernel)",
   "language": "python",
   "name": "python3"
  },
  "language_info": {
   "codemirror_mode": {
    "name": "ipython",
    "version": 3
   },
   "file_extension": ".py",
   "mimetype": "text/x-python",
   "name": "python",
   "nbconvert_exporter": "python",
   "pygments_lexer": "ipython3",
   "version": "3.9.12"
  }
 },
 "nbformat": 4,
 "nbformat_minor": 1
}
